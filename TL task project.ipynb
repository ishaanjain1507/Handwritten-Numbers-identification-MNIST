{
 "cells": [
  {
   "cell_type": "code",
   "execution_count": 1,
   "id": "bed12d9f",
   "metadata": {
    "scrolled": true
   },
   "outputs": [],
   "source": [
    "import warnings\n",
    "warnings.filterwarnings('ignore')\n",
    "\n",
    "import pandas as pd\n",
    "import numpy as np\n",
    "import matplotlib.pyplot as plt\n",
    "import cv2\n",
    "import os"
   ]
  },
  {
   "cell_type": "code",
   "execution_count": 2,
   "id": "42c5fc11",
   "metadata": {},
   "outputs": [
    {
     "name": "stderr",
     "output_type": "stream",
     "text": [
      "2023-06-08 17:20:16.361333: I tensorflow/core/util/port.cc:110] oneDNN custom operations are on. You may see slightly different numerical results due to floating-point round-off errors from different computation orders. To turn them off, set the environment variable `TF_ENABLE_ONEDNN_OPTS=0`.\n",
      "2023-06-08 17:20:16.410666: I tensorflow/tsl/cuda/cudart_stub.cc:28] Could not find cuda drivers on your machine, GPU will not be used.\n",
      "2023-06-08 17:20:16.683135: I tensorflow/tsl/cuda/cudart_stub.cc:28] Could not find cuda drivers on your machine, GPU will not be used.\n",
      "2023-06-08 17:20:16.684145: I tensorflow/core/platform/cpu_feature_guard.cc:182] This TensorFlow binary is optimized to use available CPU instructions in performance-critical operations.\n",
      "To enable the following instructions: AVX2 AVX512F AVX512_VNNI FMA, in other operations, rebuild TensorFlow with the appropriate compiler flags.\n",
      "2023-06-08 17:20:17.895945: W tensorflow/compiler/tf2tensorrt/utils/py_utils.cc:38] TF-TRT Warning: Could not find TensorRT\n"
     ]
    }
   ],
   "source": [
    "import tensorflow as tf"
   ]
  },
  {
   "cell_type": "code",
   "execution_count": 3,
   "id": "de57f27c",
   "metadata": {},
   "outputs": [],
   "source": [
    "from tensorflow.keras.callbacks import TensorBoard\n",
    "import time"
   ]
  },
  {
   "cell_type": "code",
   "execution_count": 4,
   "id": "e6d895bd",
   "metadata": {},
   "outputs": [],
   "source": [
    "NAME = \"TL_taks-{}\".format(time.time())"
   ]
  },
  {
   "cell_type": "code",
   "execution_count": 5,
   "id": "3bba4d9c",
   "metadata": {},
   "outputs": [],
   "source": [
    "tensorboard = TensorBoard(log_dir = \"log_dir/{}\".format(NAME))"
   ]
  },
  {
   "cell_type": "code",
   "execution_count": 6,
   "id": "964671f2",
   "metadata": {},
   "outputs": [
    {
     "data": {
      "text/html": [
       "<div>\n",
       "<style scoped>\n",
       "    .dataframe tbody tr th:only-of-type {\n",
       "        vertical-align: middle;\n",
       "    }\n",
       "\n",
       "    .dataframe tbody tr th {\n",
       "        vertical-align: top;\n",
       "    }\n",
       "\n",
       "    .dataframe thead th {\n",
       "        text-align: right;\n",
       "    }\n",
       "</style>\n",
       "<table border=\"1\" class=\"dataframe\">\n",
       "  <thead>\n",
       "    <tr style=\"text-align: right;\">\n",
       "      <th></th>\n",
       "      <th>image_name</th>\n",
       "      <th>label</th>\n",
       "    </tr>\n",
       "  </thead>\n",
       "  <tbody>\n",
       "    <tr>\n",
       "      <th>0</th>\n",
       "      <td>1.png</td>\n",
       "      <td>1</td>\n",
       "    </tr>\n",
       "    <tr>\n",
       "      <th>1</th>\n",
       "      <td>2.png</td>\n",
       "      <td>1</td>\n",
       "    </tr>\n",
       "    <tr>\n",
       "      <th>2</th>\n",
       "      <td>3.png</td>\n",
       "      <td>1</td>\n",
       "    </tr>\n",
       "    <tr>\n",
       "      <th>3</th>\n",
       "      <td>4.png</td>\n",
       "      <td>1</td>\n",
       "    </tr>\n",
       "    <tr>\n",
       "      <th>4</th>\n",
       "      <td>5.png</td>\n",
       "      <td>1</td>\n",
       "    </tr>\n",
       "    <tr>\n",
       "      <th>...</th>\n",
       "      <td>...</td>\n",
       "      <td>...</td>\n",
       "    </tr>\n",
       "    <tr>\n",
       "      <th>63440</th>\n",
       "      <td>63441.png</td>\n",
       "      <td>5</td>\n",
       "    </tr>\n",
       "    <tr>\n",
       "      <th>63441</th>\n",
       "      <td>63442.png</td>\n",
       "      <td>5</td>\n",
       "    </tr>\n",
       "    <tr>\n",
       "      <th>63442</th>\n",
       "      <td>63443.png</td>\n",
       "      <td>5</td>\n",
       "    </tr>\n",
       "    <tr>\n",
       "      <th>63443</th>\n",
       "      <td>63444.png</td>\n",
       "      <td>5</td>\n",
       "    </tr>\n",
       "    <tr>\n",
       "      <th>63444</th>\n",
       "      <td>63445.png</td>\n",
       "      <td>5</td>\n",
       "    </tr>\n",
       "  </tbody>\n",
       "</table>\n",
       "<p>63445 rows × 2 columns</p>\n",
       "</div>"
      ],
      "text/plain": [
       "      image_name  label\n",
       "0          1.png      1\n",
       "1          2.png      1\n",
       "2          3.png      1\n",
       "3          4.png      1\n",
       "4          5.png      1\n",
       "...          ...    ...\n",
       "63440  63441.png      5\n",
       "63441  63442.png      5\n",
       "63442  63443.png      5\n",
       "63443  63444.png      5\n",
       "63444  63445.png      5\n",
       "\n",
       "[63445 rows x 2 columns]"
      ]
     },
     "execution_count": 6,
     "metadata": {},
     "output_type": "execute_result"
    }
   ],
   "source": [
    "df = pd.read_csv(\"./label.csv\")\n",
    "df"
   ]
  },
  {
   "cell_type": "code",
   "execution_count": 7,
   "id": "834028e7",
   "metadata": {},
   "outputs": [],
   "source": [
    "dataset = []\n",
    "shapes = []\n",
    "\n",
    "IMG_SIZE = 64\n",
    "\n",
    "for i in range(df.shape[0]):\n",
    "    img = cv2.imread(\"./cells/cells/\" + df[\"image_name\"][i], cv2.IMREAD_GRAYSCALE)\n",
    "    img = cv2.resize(img, (IMG_SIZE, IMG_SIZE))\n",
    "    dataset.append(img)\n",
    "    shapes.append(img.shape)\n",
    "# test_image.reshape(test_image.size)"
   ]
  },
  {
   "cell_type": "code",
   "execution_count": 8,
   "id": "b5448b5c",
   "metadata": {},
   "outputs": [],
   "source": [
    "shapes = np.array(shapes)"
   ]
  },
  {
   "cell_type": "code",
   "execution_count": 9,
   "id": "28fe7cbc",
   "metadata": {},
   "outputs": [],
   "source": [
    "dataset = np.array(dataset)"
   ]
  },
  {
   "cell_type": "code",
   "execution_count": 10,
   "id": "4a588093",
   "metadata": {},
   "outputs": [],
   "source": [
    "dataset = tf.keras.utils.normalize(dataset)"
   ]
  },
  {
   "cell_type": "code",
   "execution_count": 11,
   "id": "90c929ce",
   "metadata": {},
   "outputs": [],
   "source": [
    "from sklearn.model_selection import train_test_split"
   ]
  },
  {
   "cell_type": "code",
   "execution_count": 12,
   "id": "a2b4a103",
   "metadata": {},
   "outputs": [],
   "source": [
    "X_train, X_test, y_train, y_test = train_test_split(dataset, np.array(df['label']), test_size=0.2, shuffle = True)\n",
    "del dataset, df"
   ]
  },
  {
   "cell_type": "code",
   "execution_count": 13,
   "id": "45104a7c",
   "metadata": {},
   "outputs": [
    {
     "data": {
      "text/plain": [
       "(50756, 4096)"
      ]
     },
     "execution_count": 13,
     "metadata": {},
     "output_type": "execute_result"
    }
   ],
   "source": [
    "X_train = X_train.reshape((X_train.shape[0], X_train.shape[1]*X_train.shape[2]))\n",
    "X_test = X_test.reshape((X_test.shape[0], X_test.shape[1]*X_test.shape[2]))\n",
    "\n",
    "X_train.shape"
   ]
  },
  {
   "cell_type": "code",
   "execution_count": 14,
   "id": "8133b8eb",
   "metadata": {},
   "outputs": [],
   "source": [
    "from tensorflow.keras.models import Sequential\n",
    "from tensorflow.keras.layers import Conv2D, MaxPool2D, Flatten, Dense"
   ]
  },
  {
   "cell_type": "code",
   "execution_count": 15,
   "id": "5c5c6ae2",
   "metadata": {},
   "outputs": [],
   "source": [
    "diction = {\n",
    "    1:1,\n",
    "    2:2,\n",
    "    3:3,\n",
    "    4:4,\n",
    "    5:5,\n",
    "    6:0\n",
    "}\n",
    "\n",
    "y_train = np.array([diction[i] for i in y_train])\n",
    "y_test = np.array([diction[i] for i in y_test])"
   ]
  },
  {
   "cell_type": "code",
   "execution_count": 16,
   "id": "7b27830e",
   "metadata": {},
   "outputs": [],
   "source": [
    "y_train = tf.keras.utils.to_categorical(y_train)\n",
    "y_test = tf.keras.utils.to_categorical(y_test)"
   ]
  },
  {
   "cell_type": "code",
   "execution_count": 17,
   "id": "a16fcfd4",
   "metadata": {},
   "outputs": [],
   "source": [
    "model = tf.keras.models.Sequential()\n",
    "\n",
    "model.add(tf.keras.layers.Flatten())\n",
    "model.add(Dense(64, activation='relu'))\n",
    "model.add(Dense(32, activation='relu'))\n",
    "model.add(Dense(6, activation='softmax'))"
   ]
  },
  {
   "cell_type": "code",
   "execution_count": 18,
   "id": "cb7c77be",
   "metadata": {},
   "outputs": [],
   "source": [
    "model.compile(optimizer='adam', loss='categorical_crossentropy', metrics=['accuracy'])"
   ]
  },
  {
   "cell_type": "code",
   "execution_count": 19,
   "id": "6e2edce6",
   "metadata": {},
   "outputs": [
    {
     "name": "stdout",
     "output_type": "stream",
     "text": [
      "Epoch 1/15\n",
      "1587/1587 [==============================] - 6s 3ms/step - loss: 1.1996 - accuracy: 0.4837\n",
      "Epoch 2/15\n",
      "1587/1587 [==============================] - 5s 3ms/step - loss: 1.0660 - accuracy: 0.5460\n",
      "Epoch 3/15\n",
      "1587/1587 [==============================] - 6s 3ms/step - loss: 1.0404 - accuracy: 0.5586\n",
      "Epoch 4/15\n",
      "1587/1587 [==============================] - 5s 3ms/step - loss: 1.0184 - accuracy: 0.5669\n",
      "Epoch 5/15\n",
      "1587/1587 [==============================] - 4s 3ms/step - loss: 1.0022 - accuracy: 0.5757\n",
      "Epoch 6/15\n",
      "1587/1587 [==============================] - 5s 3ms/step - loss: 0.9883 - accuracy: 0.5820\n",
      "Epoch 7/15\n",
      "1587/1587 [==============================] - 4s 3ms/step - loss: 0.9766 - accuracy: 0.5865\n",
      "Epoch 8/15\n",
      "1587/1587 [==============================] - 5s 3ms/step - loss: 0.9700 - accuracy: 0.5892\n",
      "Epoch 9/15\n",
      "1587/1587 [==============================] - 5s 3ms/step - loss: 0.9626 - accuracy: 0.5927\n",
      "Epoch 10/15\n",
      "1587/1587 [==============================] - 6s 3ms/step - loss: 0.9522 - accuracy: 0.5958\n",
      "Epoch 11/15\n",
      "1587/1587 [==============================] - 6s 4ms/step - loss: 0.9481 - accuracy: 0.5993\n",
      "Epoch 12/15\n",
      "1587/1587 [==============================] - 6s 4ms/step - loss: 0.9404 - accuracy: 0.6025\n",
      "Epoch 13/15\n",
      "1587/1587 [==============================] - 6s 4ms/step - loss: 0.9290 - accuracy: 0.6102\n",
      "Epoch 14/15\n",
      "1587/1587 [==============================] - 5s 3ms/step - loss: 0.9285 - accuracy: 0.6103\n",
      "Epoch 15/15\n",
      "1587/1587 [==============================] - 4s 3ms/step - loss: 0.9218 - accuracy: 0.6126\n"
     ]
    },
    {
     "data": {
      "text/plain": [
       "<keras.callbacks.History at 0x7fd24429bd30>"
      ]
     },
     "execution_count": 19,
     "metadata": {},
     "output_type": "execute_result"
    }
   ],
   "source": [
    "model.fit(X_train, y_train, epochs=15, callbacks=[tensorboard])"
   ]
  },
  {
   "cell_type": "code",
   "execution_count": 20,
   "id": "5374aa2f",
   "metadata": {},
   "outputs": [
    {
     "name": "stdout",
     "output_type": "stream",
     "text": [
      "397/397 [==============================] - 1s 1ms/step - loss: 0.9113 - accuracy: 0.6246\n"
     ]
    }
   ],
   "source": [
    "loss, accuracy = model.evaluate(X_test, y_test)"
   ]
  },
  {
   "cell_type": "code",
   "execution_count": 21,
   "id": "9a34eb29",
   "metadata": {},
   "outputs": [
    {
     "name": "stdout",
     "output_type": "stream",
     "text": [
      "397/397 [==============================] - 1s 1ms/step\n"
     ]
    }
   ],
   "source": [
    "y_pred = model.predict(X_test).argmax(axis = 1)"
   ]
  },
  {
   "cell_type": "code",
   "execution_count": 22,
   "id": "bc066f74",
   "metadata": {},
   "outputs": [
    {
     "data": {
      "text/plain": [
       "array([ 475., 2960., 2824., 2671., 2702., 1057.], dtype=float32)"
      ]
     },
     "execution_count": 22,
     "metadata": {},
     "output_type": "execute_result"
    }
   ],
   "source": [
    "y_tests =np.sum(y_test, axis=0)\n",
    "y_tests"
   ]
  },
  {
   "cell_type": "code",
   "execution_count": 23,
   "id": "391c0d92",
   "metadata": {},
   "outputs": [
    {
     "data": {
      "text/plain": [
       "(array([ 300, 3159, 3615, 2479, 2191,  945]), array([0, 1, 2, 3, 4, 5]))"
      ]
     },
     "execution_count": 23,
     "metadata": {},
     "output_type": "execute_result"
    }
   ],
   "source": [
    "uniques, counts = np.unique(y_pred, return_counts=True)\n",
    "counts, uniques"
   ]
  },
  {
   "cell_type": "code",
   "execution_count": 24,
   "id": "697845df",
   "metadata": {},
   "outputs": [
    {
     "data": {
      "text/plain": [
       "array([5, 4, 4, ..., 4, 1, 0])"
      ]
     },
     "execution_count": 24,
     "metadata": {},
     "output_type": "execute_result"
    }
   ],
   "source": [
    "y_test = y_test.argmax(axis = 1)\n",
    "y_test"
   ]
  },
  {
   "cell_type": "code",
   "execution_count": 25,
   "id": "0d963b93",
   "metadata": {},
   "outputs": [],
   "source": [
    "label_list = ['6', '1', '2', '3', '4', '5']"
   ]
  },
  {
   "cell_type": "code",
   "execution_count": 26,
   "id": "13fa3411",
   "metadata": {},
   "outputs": [
    {
     "data": {
      "image/png": "[encoded data removed]",
      "text/plain": [
       "<Figure size 864x576 with 1 Axes>"
      ]
     },
     "metadata": {},
     "output_type": "display_data"
    }
   ],
   "source": [
    "plt.style.use('seaborn')\n",
    "barWidth = 0.25\n",
    "fig = plt.subplots(figsize =(12, 8))\n",
    "\n",
    "x1 = [x-barWidth/2 for x in uniques]\n",
    "x2 = [x + barWidth for x in x1]\n",
    "\n",
    "plt.bar(x1,y_tests, width=barWidth, label = 'actual label')\n",
    "plt.bar(x2,counts, width= barWidth, label = 'predicted label')\n",
    "plt.xticks(uniques, label_list)\n",
    "plt.legend()\n",
    "plt.show()"
   ]
  },
  {
   "cell_type": "code",
   "execution_count": 27,
   "id": "5a584cf9",
   "metadata": {},
   "outputs": [],
   "source": [
    "err = abs(y_tests - counts)"
   ]
  },
  {
   "cell_type": "code",
   "execution_count": 28,
   "id": "dbf48d7c",
   "metadata": {},
   "outputs": [
    {
     "data": {
      "image/png": "[encoded data removed]",
      "text/plain": [
       "<Figure size 576x396 with 1 Axes>"
      ]
     },
     "metadata": {},
     "output_type": "display_data"
    }
   ],
   "source": [
    "plt.bar(uniques, err, label = 'wrong prediction in each cell type', color = 'y')\n",
    "plt.xticks(uniques, label_list)\n",
    "plt.legend()\n",
    "plt.show()"
   ]
  },
  {
   "cell_type": "code",
   "execution_count": 29,
   "id": "cf0c5334",
   "metadata": {},
   "outputs": [],
   "source": [
    "from sklearn.metrics import f1_score, confusion_matrix"
   ]
  },
  {
   "cell_type": "code",
   "execution_count": 30,
   "id": "69c9d7db",
   "metadata": {},
   "outputs": [
    {
     "data": {
      "text/plain": [
       "0.6262371764804782"
      ]
     },
     "execution_count": 30,
     "metadata": {},
     "output_type": "execute_result"
    }
   ],
   "source": [
    "f1 = f1_score(y_true=y_test, y_pred=y_pred ,average='weighted')\n",
    "f1"
   ]
  },
  {
   "cell_type": "code",
   "execution_count": 31,
   "id": "afa35a7e",
   "metadata": {},
   "outputs": [],
   "source": [
    "cm = confusion_matrix(y_test, y_pred, normalize= 'pred')"
   ]
  },
  {
   "cell_type": "code",
   "execution_count": 32,
   "id": "9580a8f0",
   "metadata": {},
   "outputs": [],
   "source": [
    "hm =pd.DataFrame(cm.round(2))"
   ]
  },
  {
   "cell_type": "code",
   "execution_count": 38,
   "id": "67baa556",
   "metadata": {
    "scrolled": true
   },
   "outputs": [
    {
     "data": {
      "image/png": "[encoded data removed]",
      "text/plain": [
       "<Figure size 576x396 with 2 Axes>"
      ]
     },
     "metadata": {},
     "output_type": "display_data"
    },
    {
     "name": "stdout",
     "output_type": "stream",
     "text": [
      "This plot shows what each type of cell is being predicted to.\n",
      "The high values other than the diagonal represent that the cell is predicted wrongly.\n"
     ]
    }
   ],
   "source": [
    "import seaborn as sns\n",
    "sns.heatmap(hm,annot=True, cmap = 'Pastel1')\n",
    "plt.xticks(uniques+0.5, label_list)\n",
    "plt.yticks(uniques+0.5, label_list)\n",
    "plt.show()\n",
    "print(\"This plot shows what each type of cell is being predicted to.\")\n",
    "print(\"The high values other than the diagonal represent that the cell is predicted wrongly.\")"
   ]
  },
  {
   "cell_type": "markdown",
   "id": "0131ec8d",
   "metadata": {},
   "source": [
    "The below data is retrieved from Tensorboard Callback"
   ]
  },
  {
   "cell_type": "markdown",
   "id": "b74d1c24",
   "metadata": {},
   "source": [
    "Go to the treminal and type\n",
    "`tensorboard --logdir=log_dir`"
   ]
  },
  {
   "cell_type": "markdown",
   "id": "74718b75",
   "metadata": {},
   "source": [
    "Go to http://localhost:6006/ to see the realtime plot when the model is being trained"
   ]
  },
  {
   "cell_type": "code",
   "execution_count": 36,
   "id": "878d683b",
   "metadata": {},
   "outputs": [
    {
     "data": {
      "text/html": [
       "<div>\n",
       "<style scoped>\n",
       "    .dataframe tbody tr th:only-of-type {\n",
       "        vertical-align: middle;\n",
       "    }\n",
       "\n",
       "    .dataframe tbody tr th {\n",
       "        vertical-align: top;\n",
       "    }\n",
       "\n",
       "    .dataframe thead th {\n",
       "        text-align: right;\n",
       "    }\n",
       "</style>\n",
       "<table border=\"1\" class=\"dataframe\">\n",
       "  <thead>\n",
       "    <tr style=\"text-align: right;\">\n",
       "      <th></th>\n",
       "      <th>Wall time</th>\n",
       "      <th>Step</th>\n",
       "      <th>Value</th>\n",
       "    </tr>\n",
       "  </thead>\n",
       "  <tbody>\n",
       "    <tr>\n",
       "      <th>0</th>\n",
       "      <td>1.686225e+09</td>\n",
       "      <td>0</td>\n",
       "      <td>1.199620</td>\n",
       "    </tr>\n",
       "    <tr>\n",
       "      <th>1</th>\n",
       "      <td>1.686225e+09</td>\n",
       "      <td>1</td>\n",
       "      <td>1.066035</td>\n",
       "    </tr>\n",
       "    <tr>\n",
       "      <th>2</th>\n",
       "      <td>1.686225e+09</td>\n",
       "      <td>2</td>\n",
       "      <td>1.040437</td>\n",
       "    </tr>\n",
       "    <tr>\n",
       "      <th>3</th>\n",
       "      <td>1.686225e+09</td>\n",
       "      <td>3</td>\n",
       "      <td>1.018380</td>\n",
       "    </tr>\n",
       "    <tr>\n",
       "      <th>4</th>\n",
       "      <td>1.686225e+09</td>\n",
       "      <td>4</td>\n",
       "      <td>1.002187</td>\n",
       "    </tr>\n",
       "    <tr>\n",
       "      <th>5</th>\n",
       "      <td>1.686225e+09</td>\n",
       "      <td>5</td>\n",
       "      <td>0.988313</td>\n",
       "    </tr>\n",
       "    <tr>\n",
       "      <th>6</th>\n",
       "      <td>1.686225e+09</td>\n",
       "      <td>6</td>\n",
       "      <td>0.976582</td>\n",
       "    </tr>\n",
       "    <tr>\n",
       "      <th>7</th>\n",
       "      <td>1.686225e+09</td>\n",
       "      <td>7</td>\n",
       "      <td>0.970036</td>\n",
       "    </tr>\n",
       "    <tr>\n",
       "      <th>8</th>\n",
       "      <td>1.686225e+09</td>\n",
       "      <td>8</td>\n",
       "      <td>0.962638</td>\n",
       "    </tr>\n",
       "    <tr>\n",
       "      <th>9</th>\n",
       "      <td>1.686225e+09</td>\n",
       "      <td>9</td>\n",
       "      <td>0.952158</td>\n",
       "    </tr>\n",
       "    <tr>\n",
       "      <th>10</th>\n",
       "      <td>1.686225e+09</td>\n",
       "      <td>10</td>\n",
       "      <td>0.948145</td>\n",
       "    </tr>\n",
       "    <tr>\n",
       "      <th>11</th>\n",
       "      <td>1.686225e+09</td>\n",
       "      <td>11</td>\n",
       "      <td>0.940412</td>\n",
       "    </tr>\n",
       "    <tr>\n",
       "      <th>12</th>\n",
       "      <td>1.686225e+09</td>\n",
       "      <td>12</td>\n",
       "      <td>0.928992</td>\n",
       "    </tr>\n",
       "    <tr>\n",
       "      <th>13</th>\n",
       "      <td>1.686225e+09</td>\n",
       "      <td>13</td>\n",
       "      <td>0.928530</td>\n",
       "    </tr>\n",
       "    <tr>\n",
       "      <th>14</th>\n",
       "      <td>1.686225e+09</td>\n",
       "      <td>14</td>\n",
       "      <td>0.921793</td>\n",
       "    </tr>\n",
       "  </tbody>\n",
       "</table>\n",
       "</div>"
      ],
      "text/plain": [
       "       Wall time  Step     Value\n",
       "0   1.686225e+09     0  1.199620\n",
       "1   1.686225e+09     1  1.066035\n",
       "2   1.686225e+09     2  1.040437\n",
       "3   1.686225e+09     3  1.018380\n",
       "4   1.686225e+09     4  1.002187\n",
       "5   1.686225e+09     5  0.988313\n",
       "6   1.686225e+09     6  0.976582\n",
       "7   1.686225e+09     7  0.970036\n",
       "8   1.686225e+09     8  0.962638\n",
       "9   1.686225e+09     9  0.952158\n",
       "10  1.686225e+09    10  0.948145\n",
       "11  1.686225e+09    11  0.940412\n",
       "12  1.686225e+09    12  0.928992\n",
       "13  1.686225e+09    13  0.928530\n",
       "14  1.686225e+09    14  0.921793"
      ]
     },
     "execution_count": 36,
     "metadata": {},
     "output_type": "execute_result"
    }
   ],
   "source": [
    "acc = pd.read_csv(\"./Acc.csv\")\n",
    "loss = pd.read_csv(\"./Loss.csv\")\n",
    "loss"
   ]
  },
  {
   "cell_type": "code",
   "execution_count": 37,
   "id": "8e281b87",
   "metadata": {},
   "outputs": [
    {
     "data": {
      "image/png": "[encoded data removed]",
      "text/plain": [
       "<Figure size 576x396 with 1 Axes>"
      ]
     },
     "metadata": {},
     "output_type": "display_data"
    }
   ],
   "source": [
    "sns.lineplot(data=acc, x = \"Step\", y = 'Value', label = 'Accuracy')\n",
    "# plt.show()\n",
    "sns.lineplot(data = loss, x = \"Step\", y = 'Value', label = 'Loss')\n",
    "plt.legend()\n",
    "plt.show()"
   ]
  },
  {
   "cell_type": "code",
   "execution_count": null,
   "id": "ac0e663e",
   "metadata": {},
   "outputs": [],
   "source": []
  },
  {
   "cell_type": "code",
   "execution_count": null,
   "id": "e0397c99",
   "metadata": {},
   "outputs": [],
   "source": []
  },
  {
   "cell_type": "code",
   "execution_count": null,
   "id": "cf36f972",
   "metadata": {},
   "outputs": [],
   "source": []
  },
  {
   "cell_type": "code",
   "execution_count": null,
   "id": "5a8f4bda",
   "metadata": {},
   "outputs": [],
   "source": []
  },
  {
   "cell_type": "code",
   "execution_count": null,
   "id": "1450aa2e",
   "metadata": {},
   "outputs": [],
   "source": []
  },
  {
   "cell_type": "code",
   "execution_count": null,
   "id": "812cb5d1",
   "metadata": {},
   "outputs": [],
   "source": []
  },
  {
   "cell_type": "code",
   "execution_count": null,
   "id": "e42590cf",
   "metadata": {},
   "outputs": [],
   "source": []
  }
 ],
 "metadata": {
  "kernelspec": {
   "display_name": "Python 3 (ipykernel)",
   "language": "python",
   "name": "python3"
  },
  "language_info": {
   "codemirror_mode": {
    "name": "ipython",
    "version": 3
   },
   "file_extension": ".py",
   "mimetype": "text/x-python",
   "name": "python",
   "nbconvert_exporter": "python",
   "pygments_lexer": "ipython3",
   "version": "3.10.6"
  }
 },
 "nbformat": 4,
 "nbformat_minor": 5
}
